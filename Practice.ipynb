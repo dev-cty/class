{
 "cells": [
  {
   "cell_type": "code",
   "execution_count": 2,
   "id": "cf300ef5",
   "metadata": {},
   "outputs": [
    {
     "name": "stdout",
     "output_type": "stream",
     "text": [
      "Hello\n"
     ]
    }
   ],
   "source": [
    "print(\"Hello\")"
   ]
  },
  {
   "cell_type": "markdown",
   "id": "fe202678",
   "metadata": {},
   "source": [
    "# Header"
   ]
  },
  {
   "cell_type": "markdown",
   "id": "4a2ab50e",
   "metadata": {},
   "source": [
    "## Header"
   ]
  },
  {
   "cell_type": "markdown",
   "id": "cfcc30dc",
   "metadata": {},
   "source": [
    "### Header"
   ]
  },
  {
   "cell_type": "markdown",
   "id": "2beb7b0c",
   "metadata": {},
   "source": [
    "<h1> Header"
   ]
  },
  {
   "cell_type": "markdown",
   "id": "b79f3083",
   "metadata": {},
   "source": [
    "<h2> Header"
   ]
  },
  {
   "cell_type": "markdown",
   "id": "928677c1",
   "metadata": {},
   "source": [
    "*글씨*"
   ]
  },
  {
   "cell_type": "markdown",
   "id": "1f8c14a5",
   "metadata": {},
   "source": [
    "**글씨**"
   ]
  },
  {
   "cell_type": "markdown",
   "id": "cb4980fc",
   "metadata": {},
   "source": [
    "~~글씨~~"
   ]
  },
  {
   "cell_type": "markdown",
   "id": "b755e3d0",
   "metadata": {},
   "source": [
    "**이 말은 강조하고**\n",
    "\n",
    "*이건 기울이고*  \n",
    "~~이건 취소한다.~~"
   ]
  },
  {
   "cell_type": "markdown",
   "id": "25588d6f",
   "metadata": {},
   "source": [
    "# 목록\n",
    "\n",
    "* 순서없는 목록  \n",
    "* 항목  \n",
    "+ 하위항목 1  \n",
    "+ 하위항목 2\n",
    "\n",
    "**1.항목**  \n",
    "**2.항목**  \n",
    "* 하위항목 1  \n",
    "* 하위항목 2\n",
    "\n"
   ]
  },
  {
   "cell_type": "markdown",
   "id": "de8cc97a",
   "metadata": {},
   "source": [
    "# 코드\n",
    "\n",
    "인라인 코드: `print()`\n",
    "\n",
    "블록코드(언어지정X):  \n",
    "```\n",
    "\n",
    "for i in range(10):  \n",
    "print(10)\n",
    "\n",
    "```\n",
    "\n",
    "블록코드(언어지정):  \n",
    "```python\n",
    "\n",
    "for i in range(10):\n",
    "print(10)\n",
    "    \n",
    "```"
   ]
  },
  {
   "attachments": {},
   "cell_type": "markdown",
   "id": "55f7ed76",
   "metadata": {},
   "source": [
    "# 링크와 이미지\n",
    "    \n",
    "[나이키](https://www.nike.com/)\n",
    "\n",
    "![NIKE](data:image/png;base64,iVBORw0KGgoAAAANSUhEUgAAAQoAAAC+CAMAAAD6ObEsAAAAbFBMVEUBAQH///8EBAT8/Px2dna1tbXHx8cpKSnCwsJkZGT5+fnu7u4aGhre3t7h4eFTU1OhoaFDQ0OUlJQiIiKoqKhLS0uMjIxZWVlwcHDY2NgNDQ309PSIiIjNzc28vLw0NDSAgICvr68uLi5HR0fkmGFyAAACj0lEQVR4nO3ZiZKiMBCA4YQoCCggggeeM/P+77gQwGNFVteDIvN/UzVjOcFKt51ORCEAAAAAAAAAAAAAAAAAAAAAAAAAAAAAAAAAAAAAAMAF6yUv8YJX6ZxlRBSvQi5Ke2E9nwrHyV4wlS7lSYim/1sUxwYxPcSL2Qtn1YU8E/FIPFUVmZtMRsvMgEU2kOkTmUjnW88b/ujHfU5FMfdUrR4qirOR48HQl9KPx6L/m1CegbEv549cYNVZWyQTJaVcLd8ztU/Lo7KlnD5wQZmH7/lWanaqn+x3QWh5y5QyeGwPLFdFYZ3oPcOEROTSPKJt24DLMMdhssqvUMXKCOKGAT1VvJuBVHLXPuoY7HSzXcs6EbpFGJEGUWYiygOTw/Zh+vd+OQx0GvTK8HZh+QKG5CKPxNGx2f8YmC2i1Vqe+Mm+ut6QTBTvt61DC672AEscF0a6sasmqfSPDDZ9P183Cau32RXNy36W7xVeNUYpnYit++lJfoZdhTkRDTviIpp4dTHUTWJYnECMWRVn9kpVG8Lf3cKZ2+rUG6qHXlScr43MRLF91Nanus+OJ6gLwaG7ib5fcB6qv4uX7iAaBacyODWJskUYWQ/a9DLihkqolB/BjfigccOgMf6rp/zIEXprNTcTYn67Dup1kZ+vD32/X3mP9lQU5aFGukUYXA6VTVt/KFrElz5F/IJMCLc1EX5s4vn6lnVjWegmMRkIkzfPK8mtHqHv0onflIvs6lSpq+TL0f816CP4HVJ1XCL13+ounSlfi9/LEt+r8zOVCpKw6zl1Q2+T7s4vblB5fjDapF3PqDvVtzv7cBH+zM6fAQAAAAAAAAAAAAAAAAAAAAAAAAAAAAAAAAAAAAAAAPBmfwAO1BFm+S44JAAAAABJRU5ErkJggg==)"
   ]
  },
  {
   "cell_type": "markdown",
   "id": "31ec3260",
   "metadata": {},
   "source": [
    "<img src = data:image/png;base64,iVBORw0KGgoAAAANSUhEUgAAAQoAAAC+CAMAAAD6ObEsAAAAbFBMVEUBAQH///8EBAT8/Px2dna1tbXHx8cpKSnCwsJkZGT5+fnu7u4aGhre3t7h4eFTU1OhoaFDQ0OUlJQiIiKoqKhLS0uMjIxZWVlwcHDY2NgNDQ309PSIiIjNzc28vLw0NDSAgICvr68uLi5HR0fkmGFyAAACj0lEQVR4nO3ZiZKiMBCA4YQoCCggggeeM/P+77gQwGNFVteDIvN/UzVjOcFKt51ORCEAAAAAAAAAAAAAAAAAAAAAAAAAAAAAAAAAAAAAAMAF6yUv8YJX6ZxlRBSvQi5Ke2E9nwrHyV4wlS7lSYim/1sUxwYxPcSL2Qtn1YU8E/FIPFUVmZtMRsvMgEU2kOkTmUjnW88b/ujHfU5FMfdUrR4qirOR48HQl9KPx6L/m1CegbEv549cYNVZWyQTJaVcLd8ztU/Lo7KlnD5wQZmH7/lWanaqn+x3QWh5y5QyeGwPLFdFYZ3oPcOEROTSPKJt24DLMMdhssqvUMXKCOKGAT1VvJuBVHLXPuoY7HSzXcs6EbpFGJEGUWYiygOTw/Zh+vd+OQx0GvTK8HZh+QKG5CKPxNGx2f8YmC2i1Vqe+Mm+ut6QTBTvt61DC672AEscF0a6sasmqfSPDDZ9P183Cau32RXNy36W7xVeNUYpnYit++lJfoZdhTkRDTviIpp4dTHUTWJYnECMWRVn9kpVG8Lf3cKZ2+rUG6qHXlScr43MRLF91Nanus+OJ6gLwaG7ib5fcB6qv4uX7iAaBacyODWJskUYWQ/a9DLihkqolB/BjfigccOgMf6rp/zIEXprNTcTYn67Dup1kZ+vD32/X3mP9lQU5aFGukUYXA6VTVt/KFrElz5F/IJMCLc1EX5s4vn6lnVjWegmMRkIkzfPK8mtHqHv0onflIvs6lSpq+TL0f816CP4HVJ1XCL13+ounSlfi9/LEt+r8zOVCpKw6zl1Q2+T7s4vblB5fjDapF3PqDvVtzv7cBH+zM6fAQAAAAAAAAAAAAAAAAAAAAAAAAAAAAAAAAAAAAAAAPBmfwAO1BFm+S44JAAAAABJRU5ErkJggg>"
   ]
  },
  {
   "cell_type": "markdown",
   "id": "3e8d382c",
   "metadata": {},
   "source": [
    "## 인용\n",
    "\n",
    "> Just do it!"
   ]
  },
  {
   "cell_type": "markdown",
   "id": "e6ef59f2",
   "metadata": {},
   "source": [
    "# 표를 만들어본다\n",
    "\n",
    "제목1 | 제목2\n",
    "-- | --\n",
    "표1 | 표2"
   ]
  },
  {
   "cell_type": "markdown",
   "id": "adb65e20",
   "metadata": {},
   "source": [
    "# 수식\n",
    "\n",
    "인라인 수식: $y=ax$\n",
    "\n",
    "블록 수식: $$y=ax$$"
   ]
  }
 ],
 "metadata": {
  "kernelspec": {
   "display_name": "Python 3 (ipykernel)",
   "language": "python",
   "name": "python3"
  },
  "language_info": {
   "codemirror_mode": {
    "name": "ipython",
    "version": 3
   },
   "file_extension": ".py",
   "mimetype": "text/x-python",
   "name": "python",
   "nbconvert_exporter": "python",
   "pygments_lexer": "ipython3",
   "version": "3.9.7"
  }
 },
 "nbformat": 4,
 "nbformat_minor": 5
}
