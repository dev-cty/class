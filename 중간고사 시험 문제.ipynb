{
 "cells": [
  {
   "cell_type": "code",
   "execution_count": 2,
   "id": "47b35c62",
   "metadata": {},
   "outputs": [],
   "source": [
    "files=['font','1.png','10.png','11,gif','2.jpg','3.png','table.xslx','spec.docx']\n"
   ]
  },
  {
   "cell_type": "code",
   "execution_count": 4,
   "id": "d505ad2a",
   "metadata": {},
   "outputs": [],
   "source": [
    "a=['alpha','bravo','charlie','delta','echo','foxtrot','golf','hotel', 'indie']"
   ]
  },
  {
   "cell_type": "code",
   "execution_count": null,
   "id": "c9e476c3",
   "metadata": {},
   "outputs": [],
   "source": []
  }
 ],
 "metadata": {
  "kernelspec": {
   "display_name": "Python 3 (ipykernel)",
   "language": "python",
   "name": "python3"
  },
  "language_info": {
   "codemirror_mode": {
    "name": "ipython",
    "version": 3
   },
   "file_extension": ".py",
   "mimetype": "text/x-python",
   "name": "python",
   "nbconvert_exporter": "python",
   "pygments_lexer": "ipython3",
   "version": "3.9.7"
  }
 },
 "nbformat": 4,
 "nbformat_minor": 5
}
