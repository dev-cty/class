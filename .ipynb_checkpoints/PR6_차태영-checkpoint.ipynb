{
 "cells": [
  {
   "cell_type": "code",
   "execution_count": 9,
   "id": "1ed8b9b4",
   "metadata": {},
   "outputs": [
    {
     "name": "stdout",
     "output_type": "stream",
     "text": [
      "{0: 'Ajou', 1: 'University', 2: 'and', 3: 'Business', 4: 'school'}\n"
     ]
    }
   ],
   "source": [
    "d1={i:j for i,j in enumerate(\"Ajou University and Business school\".split())}\n",
    "print(d1)"
   ]
  },
  {
   "cell_type": "code",
   "execution_count": 12,
   "id": "bfcca9af",
   "metadata": {},
   "outputs": [
    {
     "name": "stdout",
     "output_type": "stream",
     "text": [
      "[(1, 10, 100), (2, 20, 200), (3, 30, 300)]\n",
      "[111, 222, 333]\n"
     ]
    }
   ],
   "source": [
    "a1=[1,2,3]\n",
    "b1=[10,20,30]\n",
    "c1=[100,200,300]\n",
    "\n",
    "print(list(zip(a1,b1,c1)))\n",
    "d2=[sum(x) for x in zip(a1,b1,c1)]\n",
    "print(d2)"
   ]
  },
  {
   "cell_type": "code",
   "execution_count": 31,
   "id": "bf876023",
   "metadata": {},
   "outputs": [
    {
     "data": {
      "text/plain": [
       "[('s', 11), ('j', 8), ('k', 8), ('d', 6), ('l', 6), ('a', 5), ('f', 2)]"
      ]
     },
     "execution_count": 31,
     "metadata": {},
     "output_type": "execute_result"
    }
   ],
   "source": [
    "st=\"ajskdfajkkjsksjjdkdlldaskflsjdklasjdlsjsaslsks\"\n",
    "dict_ch={}\n",
    "for ch in st:\n",
    "    dict_ch[ch]=dict_ch.get(ch,0)+1\n",
    "dict_ch\n",
    "sorted_dict_ch=sorted(list(dict_ch.items()), key=lambda x:x[1], reverse=True)\n",
    "sorted_dict_ch"
   ]
  },
  {
   "cell_type": "code",
   "execution_count": 23,
   "id": "28b922c5",
   "metadata": {},
   "outputs": [
    {
     "name": "stdout",
     "output_type": "stream",
     "text": [
      "[111, 222, 333]\n"
     ]
    }
   ],
   "source": [
    "m1=[1,2,3],[10,20,30],[100,200,300]\n",
    "m2=[sum(x) for x in zip(*m1)]\n",
    "print(m2)"
   ]
  }
 ],
 "metadata": {
  "kernelspec": {
   "display_name": "Python 3 (ipykernel)",
   "language": "python",
   "name": "python3"
  },
  "language_info": {
   "codemirror_mode": {
    "name": "ipython",
    "version": 3
   },
   "file_extension": ".py",
   "mimetype": "text/x-python",
   "name": "python",
   "nbconvert_exporter": "python",
   "pygments_lexer": "ipython3",
   "version": "3.9.7"
  }
 },
 "nbformat": 4,
 "nbformat_minor": 5
}
